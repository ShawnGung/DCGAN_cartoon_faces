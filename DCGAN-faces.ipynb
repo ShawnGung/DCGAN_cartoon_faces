{
 "cells": [
  {
   "cell_type": "code",
   "execution_count": 1,
   "metadata": {},
   "outputs": [],
   "source": [
    "import torch\n",
    "from torch import nn\n",
    "from torch.autograd import Variable\n",
    "\n",
    "import torchvision.transforms as tfs\n",
    "from torch.utils.data import DataLoader, sampler\n",
    "from torchvision.datasets import MNIST\n",
    "import torchvision\n",
    "import torchvision.utils as vutils\n",
    "import os\n",
    "import numpy as np\n",
    "\n",
    "\n",
    "import matplotlib.pyplot as plt\n",
    "import matplotlib.gridspec as gridspec"
   ]
  },
  {
   "cell_type": "code",
   "execution_count": 2,
   "metadata": {},
   "outputs": [],
   "source": [
    "%matplotlib inline\n",
    "plt.rcParams['figure.figsize'] = (10.0, 8.0)\n",
    "plt.rcParams['image.interpolation'] = 'nearest'\n",
    "plt.rcParams['image.cmap'] = 'gray'"
   ]
  },
  {
   "cell_type": "code",
   "execution_count": 3,
   "metadata": {},
   "outputs": [],
   "source": [
    "IMG_SIZE = 96\n",
    "BATCH_SIZE = 64\n",
    "NOISE_DIM = 100\n",
    "DATA_DIR = 'data/' # data/faces/xxx.jpg (train dataset)\n",
    "OUT_DIR = 'fake_images'# data/fake_images/xxx.jpg (store the generated pics)"
   ]
  },
  {
   "cell_type": "markdown",
   "metadata": {},
   "source": [
    "### images importing and pre-processing"
   ]
  },
  {
   "cell_type": "code",
   "execution_count": 4,
   "metadata": {},
   "outputs": [],
   "source": [
    "transforms = torchvision.transforms.Compose([\n",
    "    torchvision.transforms.Resize(IMG_SIZE),\n",
    "    torchvision.transforms.ToTensor(),\n",
    "    torchvision.transforms.Normalize((0.5, 0.5, 0.5), (0.5, 0.5, 0.5)),\n",
    " ])\n",
    "\n",
    "dataset = torchvision.datasets.ImageFolder(DATA_DIR, transform=transforms)\n",
    "\n",
    "dataloader = torch.utils.data.DataLoader(\n",
    "    dataset=dataset,\n",
    "    batch_size=BATCH_SIZE,\n",
    "    shuffle=True,\n",
    "    drop_last=True,\n",
    ")"
   ]
  },
  {
   "cell_type": "markdown",
   "metadata": {},
   "source": [
    "### network of GAN"
   ]
  },
  {
   "cell_type": "code",
   "execution_count": 5,
   "metadata": {},
   "outputs": [],
   "source": [
    "class discriminator_dc(nn.Module):\n",
    "    def __init__(self):\n",
    "        super(discriminator_dc, self).__init__()\n",
    "        self.conv1 = nn.Sequential(#input 3x96x96\n",
    "            nn.Conv2d(3, 64, 5, 3, 1),\n",
    "            nn.BatchNorm2d(64),\n",
    "            nn.LeakyReLU(0.2),\n",
    "        )# 64 x 32 x 32\n",
    "        self.conv2 = nn.Sequential(#input 64 x 32 x 32\n",
    "            nn.Conv2d(64, 128, 4, 2, 1),\n",
    "            nn.BatchNorm2d(128),\n",
    "            nn.LeakyReLU(0.2),\n",
    "        )# 128 x 16 x 16\n",
    "        self.conv3 = nn.Sequential(# 128 x 16 x 16\n",
    "            nn.Conv2d(128, 256, 4, 2, 1),\n",
    "            nn.BatchNorm2d(256),\n",
    "            nn.LeakyReLU(0.2),\n",
    "        )# 256 x 8 x 8\n",
    "        self.fc = nn.Sequential(\n",
    "            nn.Linear(256*8*8, 1024),\n",
    "            nn.LeakyReLU(0.01),\n",
    "            nn.Linear(1024, 1)\n",
    "        )\n",
    "        \n",
    "    def forward(self, x):\n",
    "        x = self.conv1(x)\n",
    "        x = self.conv2(x)\n",
    "        x = self.conv3(x)\n",
    "        x = x.view(x.shape[0], -1)\n",
    "        x = self.fc(x)\n",
    "        return x\n",
    "\n",
    "\n",
    "class generator_dc(nn.Module): \n",
    "    def __init__(self, noise_dim=NOISE_DIM):\n",
    "        super(generator_dc, self).__init__()\n",
    "        self.fc = nn.Sequential(# 100,\n",
    "            nn.Linear(noise_dim, 1024), # 1024\n",
    "            nn.ReLU(True),\n",
    "            nn.BatchNorm1d(1024),\n",
    "            nn.Linear(1024, 4 * 4 * 512),# 8*8*512\n",
    "            nn.ReLU(True),\n",
    "            nn.BatchNorm1d(4 * 4 * 512)\n",
    "        )\n",
    "        \n",
    "        self.conv = nn.Sequential(\n",
    "            nn.ConvTranspose2d(512, 128, 4, 2, padding=1),# 128 x  8 x 8\n",
    "            nn.ReLU(True),\n",
    "            nn.BatchNorm2d(128),\n",
    "            nn.ConvTranspose2d(128, 64, 4, 2, padding=1),# 32 x  16 x 16\n",
    "            nn.ReLU(True),\n",
    "            nn.BatchNorm2d(64),\n",
    "            nn.ConvTranspose2d(64, 32, 4, 2, padding=1),# 3 x  32 x 32\n",
    "            nn.ReLU(True),\n",
    "            nn.BatchNorm2d(32),\n",
    "            nn.ConvTranspose2d(32, 3, 5, 3, padding=1),# 3 x  96 x 96\n",
    "            nn.Tanh()\n",
    "        )\n",
    "        \n",
    "    def forward(self, x):\n",
    "        x = self.fc(x)\n",
    "        x = x.view(x.shape[0], 512, 4, 4) # reshape channel is 512，shape 4 x 4\n",
    "        x = self.conv(x) # [b,3,96,28]\n",
    "        return x"
   ]
  },
  {
   "cell_type": "markdown",
   "metadata": {},
   "source": [
    "### define loss function"
   ]
  },
  {
   "cell_type": "code",
   "execution_count": 6,
   "metadata": {},
   "outputs": [],
   "source": [
    "bce_loss = nn.BCEWithLogitsLoss()\n",
    "\n",
    "def discriminator_loss(real_preds,fake_preds):\n",
    "    size = real_preds.shape[0]\n",
    "    true_labels = torch.ones(size,1).float().cuda()\n",
    "    false_labels = torch.zeros(size,1).float().cuda()\n",
    "    loss = bce_loss(real_preds,true_labels) + bce_loss(fake_preds,false_labels)\n",
    "    return loss\n",
    "\n",
    "def generator_loss(fake_preds):\n",
    "    size = fake_preds.shape[0]\n",
    "    true_labels = torch.ones(size,1).float().cuda()\n",
    "    loss = bce_loss(fake_preds,true_labels)\n",
    "    return loss\n",
    "\n",
    "def get_adam_optimizer(net):\n",
    "    optimizer = torch.optim.Adam(net.parameters(), lr=3e-4, betas=(0.5, 0.999))\n",
    "    return optimizer\n",
    "def get_sgd_optimizer(net):\n",
    "    optimizer = torch.optim.SGD(params=net.parameters(), lr=1e-3,momentum = 0.9,weight_decay=1e-4)\n",
    "    return optimizer"
   ]
  },
  {
   "cell_type": "markdown",
   "metadata": {},
   "source": [
    "### define training procedure"
   ]
  },
  {
   "cell_type": "code",
   "execution_count": 7,
   "metadata": {},
   "outputs": [],
   "source": [
    "def train(data_iter,D_net,G_net,D_opt,G_opt,d_loss_func,g_loss_func,noise_size = 100,EPOCH = 10,show_every = 50):\n",
    "    iter_count = 0\n",
    "    \n",
    "    loss = {'d': [], 'g': []}\n",
    "    \n",
    "    for epoch in range(EPOCH):\n",
    "        for x,_ in data_iter:\n",
    "            #batch_size = x.shape[0]\n",
    "            \n",
    "            #Discriminator\n",
    "            #real_data = x.view(batch_size, -1).cuda()\n",
    "            real_data = x.cuda()\n",
    "            \n",
    "            real_preds = D_net(real_data) \n",
    "            \n",
    "            sample_noise = (torch.rand(BATCH_SIZE, noise_size) - 0.5) / 0.5 # -1 ~ 1\n",
    "            fake_inputs = sample_noise.cuda() \n",
    "            \n",
    "            fake_images = G_net(fake_inputs) \n",
    "            fake_preds = D_net(fake_images) \n",
    "            \n",
    "            d_loss = d_loss_func(real_preds,fake_preds)\n",
    "            \n",
    "            #optimize discriminator\n",
    "            D_opt.zero_grad()\n",
    "            d_loss.backward()\n",
    "            D_opt.step()\n",
    "\n",
    "            #generator\n",
    "            fake_inputs = sample_noise.cuda()\n",
    "            fake_images = G_net(fake_inputs) \n",
    "            fake_preds = D_net(fake_images)\n",
    "            g_loss = g_loss_func(fake_preds)\n",
    "            #optimize generator\n",
    "            G_opt.zero_grad()\n",
    "            g_loss.backward()\n",
    "            G_opt.step()\n",
    "            \n",
    "            loss['d'].append(d_loss.cpu().data.numpy())\n",
    "            loss['g'].append(g_loss.cpu().data.numpy())\n",
    "            \n",
    "            if (iter_count % show_every == 0):\n",
    "                print('Epoch: {},Iter: {}, D: {:.4}, G:{:.4}'.format(epoch,iter_count, d_loss.cpu().data.numpy(), g_loss.cpu().data.numpy()))\n",
    "            iter_count += 1\n",
    "        vutils.save_image(fake_images.data.cpu(),\n",
    "                  '%s/fake_samples_epoch_%03d.png' % (os.path.join(DATA_DIR, OUT_DIR), epoch),\n",
    "                  normalize=True)\n",
    " \n",
    "        #torch.save(G_net.state_dict(), '%s/netG_%03d.pth' % (DATA_DIR, epoch))\n",
    "        #torch.save(D_net.state_dict(), '%s/netD_%03d.pth' % (DATA_DIR, epoch))\n",
    "\n",
    "    # plot the loss function versus number of iterations\n",
    "    plt.plot(loss['d'], label='Discriminator')\n",
    "    plt.plot(loss['g'], label='Generator')\n",
    "    plt.legend(loc='upper right')\n",
    "    plt.savefig('Loss.png')\n",
    "    plt.show()"
   ]
  },
  {
   "cell_type": "code",
   "execution_count": 8,
   "metadata": {},
   "outputs": [
    {
     "name": "stdout",
     "output_type": "stream",
     "text": [
      "Epoch: 0,Iter: 0, D: 1.374, G:1.921\n",
      "Epoch: 0,Iter: 250, D: 0.6867, G:1.854\n",
      "Epoch: 0,Iter: 500, D: 0.7095, G:1.703\n",
      "Epoch: 0,Iter: 750, D: 0.7132, G:2.441\n",
      "Epoch: 1,Iter: 1000, D: 0.5004, G:2.68\n",
      "Epoch: 1,Iter: 1250, D: 0.5819, G:2.183\n",
      "Epoch: 1,Iter: 1500, D: 0.3666, G:3.507\n",
      "Epoch: 2,Iter: 1750, D: 0.3668, G:2.807\n",
      "Epoch: 2,Iter: 2000, D: 0.6186, G:2.757\n",
      "Epoch: 2,Iter: 2250, D: 0.5717, G:3.968\n",
      "Epoch: 3,Iter: 2500, D: 2.382, G:1.052\n",
      "Epoch: 3,Iter: 2750, D: 0.3752, G:2.114\n",
      "Epoch: 3,Iter: 3000, D: 0.4061, G:2.967\n",
      "Epoch: 4,Iter: 3250, D: 0.3437, G:4.579\n",
      "Epoch: 4,Iter: 3500, D: 1.755, G:2.056\n",
      "Epoch: 4,Iter: 3750, D: 0.3385, G:3.002\n",
      "Epoch: 5,Iter: 4000, D: 0.2787, G:5.929\n",
      "Epoch: 5,Iter: 4250, D: 0.4142, G:4.775\n",
      "Epoch: 5,Iter: 4500, D: 0.3211, G:2.949\n",
      "Epoch: 5,Iter: 4750, D: 0.2508, G:3.983\n",
      "Epoch: 6,Iter: 5000, D: 0.3963, G:7.687\n",
      "Epoch: 6,Iter: 5250, D: 0.208, G:4.921\n",
      "Epoch: 6,Iter: 5500, D: 0.2178, G:5.389\n",
      "Epoch: 7,Iter: 5750, D: 0.2439, G:3.963\n",
      "Epoch: 7,Iter: 6000, D: 0.1867, G:5.49\n",
      "Epoch: 7,Iter: 6250, D: 0.2116, G:5.485\n",
      "Epoch: 8,Iter: 6500, D: 0.1581, G:4.899\n",
      "Epoch: 8,Iter: 6750, D: 0.1118, G:6.612\n",
      "Epoch: 8,Iter: 7000, D: 0.1796, G:6.237\n",
      "Epoch: 9,Iter: 7250, D: 0.2734, G:3.218\n",
      "Epoch: 9,Iter: 7500, D: 0.138, G:4.65\n",
      "Epoch: 9,Iter: 7750, D: 0.3615, G:3.485\n"
     ]
    },
    {
     "data": {
      "image/png": "[encoded data removed]",
      "text/plain": [
       "<Figure size 720x576 with 1 Axes>"
      ]
     },
     "metadata": {},
     "output_type": "display_data"
    }
   ],
   "source": [
    "D = discriminator_dc().cuda()\n",
    "G = generator_dc().cuda()\n",
    "\n",
    "D_optim = get_adam_optimizer(D)\n",
    "G_optim = get_adam_optimizer(G)\n",
    "\n",
    "train(dataloader,D, G, D_optim, G_optim, discriminator_loss, generator_loss,noise_size = NOISE_DIM,EPOCH = 10,show_every = 250)"
   ]
  },
  {
   "cell_type": "code",
   "execution_count": 21,
   "metadata": {},
   "outputs": [],
   "source": [
    "#generate gif\n",
    "from imageio import imread, imsave, mimsave\n",
    "images = []\n",
    "filenames=sorted((fn for fn in os.listdir(os.path.join(DATA_DIR, OUT_DIR)) if fn.endswith('.png')))\n",
    "for filename in filenames:\n",
    "    images.append(imread(os.path.join(DATA_DIR, OUT_DIR,filename)))\n",
    "    \n",
    "mimsave(os.path.join(DATA_DIR, OUT_DIR, 'samples.gif'), images, fps=10,duration=0.5)"
   ]
  },
  {
   "cell_type": "code",
   "execution_count": null,
   "metadata": {},
   "outputs": [],
   "source": []
  }
 ],
 "metadata": {
  "kernelspec": {
   "display_name": "Python 3",
   "language": "python",
   "name": "python3"
  },
  "language_info": {
   "codemirror_mode": {
    "name": "ipython",
    "version": 3
   },
   "file_extension": ".py",
   "mimetype": "text/x-python",
   "name": "python",
   "nbconvert_exporter": "python",
   "pygments_lexer": "ipython3",
   "version": "3.6.5"
  }
 },
 "nbformat": 4,
 "nbformat_minor": 2
}
